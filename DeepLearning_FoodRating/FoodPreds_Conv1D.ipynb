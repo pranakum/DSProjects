{
 "cells": [
  {
   "cell_type": "markdown",
   "metadata": {},
   "source": [
    "# Predict the food rating based on Customer review(1dcnn)"
   ]
  },
  {
   "cell_type": "code",
   "execution_count": 25,
   "metadata": {},
   "outputs": [],
   "source": [
    "# Import the necessary libraries, modules\n",
    "import pandas as pd # Pandas library for reading '.csv' files as dataframes\n",
    "import numpy as np  # Numpy library for creating and modifying arrays.\n",
    "import string\n",
    "import re\n",
    "from keras.layers import Dense, SimpleRNN, GRU, LSTM, Embedding, Conv1D, MaxPooling1D, GlobalMaxPooling1D # Import layers from Keras\n",
    "from keras.models import Sequential"
   ]
  },
  {
   "cell_type": "code",
   "execution_count": 2,
   "metadata": {},
   "outputs": [],
   "source": [
    "import os\n",
    "os.getcwd()\n",
    "os.chdir(\"F:\\\\Insofe\\\\Cute_DeepLearning\\\\PS2\")"
   ]
  },
  {
   "cell_type": "markdown",
   "metadata": {},
   "source": [
    "### Reading the data"
   ]
  },
  {
   "cell_type": "code",
   "execution_count": 3,
   "metadata": {},
   "outputs": [
    {
     "name": "stdout",
     "output_type": "stream",
     "text": [
      "(100000, 2)\n",
      "Index(['Rating', 'Review'], dtype='object')\n",
      "\n",
      "\n",
      "(50000, 2)\n"
     ]
    }
   ],
   "source": [
    "raw_data = pd.read_csv('Train.csv', encoding='latin-1') # Read the data as a DataFrame using Pandas\n",
    "raw_test_data = pd.read_csv('Test.csv', encoding='latin-1')\n",
    "\n",
    "print(raw_data.shape) # Print the dimensions of train DataFrame\n",
    "print(raw_data.columns) # Print the column names of the DataFrame\n",
    "print('\\n')\n",
    "raw_data.head(5) # Print the top few records\n",
    "print(raw_test_data.shape) # Print the dimensions of train DataFrame"
   ]
  },
  {
   "cell_type": "code",
   "execution_count": 4,
   "metadata": {},
   "outputs": [
    {
     "data": {
      "text/plain": [
       "(100000,)"
      ]
     },
     "execution_count": 4,
     "metadata": {},
     "output_type": "execute_result"
    }
   ],
   "source": [
    "X = raw_data.Review\n",
    "X.shape"
   ]
  },
  {
   "cell_type": "code",
   "execution_count": 5,
   "metadata": {},
   "outputs": [
    {
     "data": {
      "text/plain": [
       "(50000,)"
      ]
     },
     "execution_count": 5,
     "metadata": {},
     "output_type": "execute_result"
    }
   ],
   "source": [
    "X_test = raw_test_data.Review\n",
    "X_test.shape"
   ]
  },
  {
   "cell_type": "code",
   "execution_count": 6,
   "metadata": {},
   "outputs": [
    {
     "data": {
      "text/plain": [
       "0    Not sure why there are such bad reviews for th...\n",
       "1    This is Jersey Boys as in Frankie Valli and th...\n",
       "Name: Review, dtype: object"
      ]
     },
     "execution_count": 6,
     "metadata": {},
     "output_type": "execute_result"
    }
   ],
   "source": [
    "X[:2]"
   ]
  },
  {
   "cell_type": "code",
   "execution_count": 7,
   "metadata": {},
   "outputs": [],
   "source": [
    "def clean_text(txt):\n",
    "    txt = \"\".join(v for v in txt if v not in string.punctuation).lower()\n",
    "    txt = txt.encode(\"utf8\").decode(\"ascii\",'ignore')\n",
    "    output = re.sub(r'\\d+', '', txt)\n",
    "    p = re.compile(\"(\\.|\\!|\\?)-'\")\n",
    "    txt = p.sub(\"\", output)\n",
    "    return txt"
   ]
  },
  {
   "cell_type": "code",
   "execution_count": 8,
   "metadata": {},
   "outputs": [
    {
     "data": {
      "text/plain": [
       "['not sure why there are such bad reviews for this location as far as starbucks go it is pretty average not especially bad they get points knocked off due to the small size and lack of sittinglounging space you can only walk up or drive thru at this location  but the drive thru is quick enough ive never had any issues with my order getting mixed up or attitude from the baristas i mostly visit in evenings or afternoon and it is never busy  ive also been during morning hours but not super early so i cant comment on early morning rushnnseems like this low rating is partially skewed from people who dont like starbucks coffee in general understood but i wish we could just filter out those reviews  after all we all know what starbucks is and isnt by now some of us need an accurate review of the location without coffee snobbery polluting the rating p nsee there  i included the smiley so my snobby coffee brethren cant take offense',\n",
       " 'this is jersey boys as in frankie valli and the  seasons  if youre looking for gym tan laundry and fist pumping boys youre at the wrong show  just sayin haha    i def recommend jb if youre looking to be entertained by something other than a cirque magic or boobie show   nntickets  we ended up just purchasing our tix from the paris desk since we were staying at the paris  too lazy to go to discount tix or look for cheaper ones  we got the cheapest tickets which were around  bucks  fyi  i heard the couple next to us ask if they had senior citizen discounts and they were hooked up  scorennvenue  any seat is good since its not a huge venue  there arent any funky columns or obstructions anywhere so no chance of having to watch with your neck turned at a  deg angle  we were sitting the rd or th row from the back and it was fine  so unless you feel the need to be up close and personal youre fine getting the cheap seatsnnshow   i know im getting older when i want to hear music my  and  year old parents listen to  hubs and i were like one of the youngest couples there in our s but age is nothing but a numba here  i wont go into details since you should see it for yourself but i will be honest the beginning is kinda boring  i remember whispering to the hubs it better pick up or i was ready to take a nappy nap  but after  minutes it picks up  jb is all about how frankie became frankie valli and the  seasons via acting dancing and great singing  i was actually surprised by how many of their hits i knew so sit back relax and enjoy nnfyi like rodney s mentioned prob not the best show to bring kids to since there is some profanity and gun action going onjoyzy to the max',\n",
       " 'i am curious know of how much they have paid for pr from my experience along with others nothing there has been quality staff has been extremely under trained  i have seen the right ups in the paper along with reviews and wonder how such accommodations have been acquired  this is not a restaurant that will last in the suburbia of las vegas',\n",
       " 'wynn oh how i want to love you so with splendid walls hip decor mosaic tiles and high fashion galore nnits vegas where everything is a fantasy of overpriced glittery distractions weekend gettaway with hubby and we were doing it up big time nni will rate everything individually then give an overall rating at the bottomnnthe room  starsnnour king sized bedroom was not ready when we arrived to a packed lobby at the wynn on a saturday afternoon back in march this is not a good thing in my book but what can you do they moved us to a room with two double beds big mistakennthe room and bathroom were both well appointed and the view worthy of a million dollars however the beds sucked they were uncomfortable and not big enough i guess they really dont want you staying in your room at casinosnnwhen we first walked in the connecting doors to our rooms were open we attempted and were not able to securely shut them this definitely felt kinda weird and creepy at the same time  i was forced to call the front desk to have maintenance come up to shut it for us he said that the renovations had caused this issue all over the place hmmmm better get those contractors back out here thennnby far the worst thing about our room were the paper thin walls we could hear entire conversations and loud partying all night long what made matters go from bad to even worse was the room vibrating from the base and the continuous throbbing from the disco down below i dont think we slept a wink either night  nnlisten we are all for revelers  revelling it is vegas baby but not in my bed at  in the morning i want to be able to sleep and when your paying big bucks  that means the hotel should have some sound proofing going on nnthe fab pool   stars private loungers gorgeous decor great djs yummy drinks  incredible vip service best thing about this resort by far best pool i have been to in vegas bar none sorry mandalay but the lack of sketchy crowds here trumps yannthe food  drinks inside the hotel  stars  overpriced and not that great we found far better food and drinks elsewhere around town nhey listen everyone knows while in vegas you are going to get bent over but you should at least be able to enjoy the ride nnslot machines   i won quite a bit of money but  my winnings were balanced out by my honey losing his shirt pants and everything else at black jack darn so much for buying a chanel purse while i was therennoverall experience  stars i will round up to  for the sake of this review will we be back perhaps but i think we will try out the encore next door']"
      ]
     },
     "execution_count": 8,
     "metadata": {},
     "output_type": "execute_result"
    }
   ],
   "source": [
    "corpus = [clean_text(x) for x in X]\n",
    "corpus[:4]"
   ]
  },
  {
   "cell_type": "code",
   "execution_count": 9,
   "metadata": {},
   "outputs": [],
   "source": [
    "test_corpus = [clean_text(x) for x in X_test]"
   ]
  },
  {
   "cell_type": "code",
   "execution_count": 10,
   "metadata": {},
   "outputs": [
    {
     "data": {
      "text/plain": [
       "['i got new tires from them and within two weeks got a flat i took my car to a local mechanic to see if i could get the hole patched but they said the reason i had a flat was because the previous patch had blown  wait what i just got the tire and never needed to have it patched this was supposed to be a new tire ni took the tire over to flynns and they told me that someone punctured my tire then tried to patch it so there are resentful tire slashers i find that very unlikely after arguing with the guy and telling him that his logic was far fetched he said hed give me a new tire this time ni will never go back to flynns bc of the way this guy treated me and the simple fact that they gave me a used tire',\n",
       " 'dont waste your time  we had two different people come to our house to give us estimates for a deck one of them the owner  both times we never heard from them  not a call not the estimate nothing']"
      ]
     },
     "execution_count": 10,
     "metadata": {},
     "output_type": "execute_result"
    }
   ],
   "source": [
    "test_corpus[:2]"
   ]
  },
  {
   "cell_type": "code",
   "execution_count": 11,
   "metadata": {},
   "outputs": [
    {
     "name": "stdout",
     "output_type": "stream",
     "text": [
      "Number of words: \n",
      "99991\n"
     ]
    }
   ],
   "source": [
    "# Summarize number of words\n",
    "print(\"Number of words: \")\n",
    "print(len(np.unique(np.hstack(corpus))))"
   ]
  },
  {
   "cell_type": "code",
   "execution_count": 12,
   "metadata": {},
   "outputs": [
    {
     "name": "stdout",
     "output_type": "stream",
     "text": [
      "Review length: \n",
      "Mean 735.48 words (666.675728)\n"
     ]
    },
    {
     "data": {
      "text/plain": [
       "<Figure size 640x480 with 1 Axes>"
      ]
     },
     "metadata": {},
     "output_type": "display_data"
    }
   ],
   "source": [
    "# Summarize review length\n",
    "import matplotlib.pyplot as plt\n",
    "print(\"Review length: \")\n",
    "result = [len(x) for x in X]\n",
    "print(\"Mean %.2f words (%f)\" % (np.mean(result), np.std(result)))\n",
    "# plot review length\n",
    "plt.boxplot(result)\n",
    "plt.show()"
   ]
  },
  {
   "cell_type": "markdown",
   "metadata": {},
   "source": [
    "### Check the labels and their frequencies"
   ]
  },
  {
   "cell_type": "code",
   "execution_count": 13,
   "metadata": {},
   "outputs": [
    {
     "name": "stdout",
     "output_type": "stream",
     "text": [
      "[1 2 3 4 5]\n",
      "[20194 20106 20013 19969 19718]\n"
     ]
    }
   ],
   "source": [
    "# Print the unique classes and their counts/frequencies\n",
    "classes = np.unique(raw_data['Rating'], return_counts=True) # np.unique returns a tuple with class names and counts\n",
    "print(classes[0]) #Print the list of unique classes\n",
    "print(classes[1]) #Print the list of frequencies of the above classes"
   ]
  },
  {
   "cell_type": "code",
   "execution_count": 14,
   "metadata": {
    "scrolled": true
   },
   "outputs": [
    {
     "data": {
      "text/plain": [
       "1    20194\n",
       "2    20106\n",
       "3    20013\n",
       "4    19969\n",
       "5    19718\n",
       "Name: Rating, dtype: int64"
      ]
     },
     "execution_count": 14,
     "metadata": {},
     "output_type": "execute_result"
    }
   ],
   "source": [
    "pd.value_counts(raw_data['Rating'])"
   ]
  },
  {
   "cell_type": "markdown",
   "metadata": {},
   "source": [
    "### Converting unstructured text to structured numeric form\n",
    "This includes:\n",
    "1. Tokenizing\n",
    "2. Converting sequence of words to sequence of word indeces\n",
    "3. Converting varing length sequences to fixed length sequences through padding"
   ]
  },
  {
   "cell_type": "code",
   "execution_count": 15,
   "metadata": {},
   "outputs": [],
   "source": [
    "max_num_words = 20000\n",
    "seq_len = 400\n",
    "embedding_size = 32"
   ]
  },
  {
   "cell_type": "code",
   "execution_count": 16,
   "metadata": {},
   "outputs": [
    {
     "data": {
      "text/plain": [
       "((100000, 400), (50000, 400))"
      ]
     },
     "execution_count": 16,
     "metadata": {},
     "output_type": "execute_result"
    }
   ],
   "source": [
    "from keras.preprocessing.text import Tokenizer\n",
    "from keras.preprocessing.sequence import pad_sequences\n",
    "\n",
    "tokenizer = Tokenizer(num_words=max_num_words) #Tokenizer is used to tokenize text\n",
    "tokenizer.fit_on_texts(corpus) #Fit this to our corpus\n",
    "\n",
    "x_train = tokenizer.texts_to_sequences(corpus) #'text to sequences converts the text to a list of indices\n",
    "x_train = pad_sequences(x_train, maxlen=seq_len) #pad_sequences makes every sequence a fixed size list by padding with 0s \n",
    "\n",
    "x_test = tokenizer.texts_to_sequences(test_corpus) \n",
    "x_test = pad_sequences(x_test, maxlen=seq_len)\n",
    "\n",
    "x_train.shape, x_test.shape # Check the dimensions of x_train and x_test  "
   ]
  },
  {
   "cell_type": "code",
   "execution_count": 17,
   "metadata": {},
   "outputs": [
    {
     "data": {
      "text/plain": [
       "209586"
      ]
     },
     "execution_count": 17,
     "metadata": {},
     "output_type": "execute_result"
    }
   ],
   "source": [
    "len(tokenizer.word_counts.keys())"
   ]
  },
  {
   "cell_type": "code",
   "execution_count": 70,
   "metadata": {},
   "outputs": [
    {
     "data": {
      "text/plain": [
       "{'the': 1,\n",
       " 'and': 2,\n",
       " 'a': 3,\n",
       " 'i': 4,\n",
       " 'to': 5,\n",
       " 'was': 6,\n",
       " 'of': 7,\n",
       " 'it': 8,\n",
       " 'for': 9,\n",
       " 'in': 10,\n",
       " 'is': 11,\n",
       " 'that': 12,\n",
       " 'my': 13,\n",
       " 'but': 14,\n",
       " 'we': 15,\n",
       " 'with': 16,\n",
       " 'this': 17,\n",
       " 'they': 18,\n",
       " 'on': 19,\n",
       " 'you': 20,\n",
       " 'not': 21,\n",
       " 'have': 22,\n",
       " 'had': 23,\n",
       " 'were': 24,\n",
       " 'at': 25,\n",
       " 'so': 26,\n",
       " 'are': 27,\n",
       " 'food': 28,\n",
       " 'be': 29,\n",
       " 'good': 30,\n",
       " 'place': 31,\n",
       " 'there': 32,\n",
       " 'as': 33,\n",
       " 'me': 34,\n",
       " 'like': 35,\n",
       " 'just': 36,\n",
       " 'if': 37,\n",
       " 'out': 38,\n",
       " 'all': 39,\n",
       " 'very': 40,\n",
       " 'our': 41,\n",
       " 'here': 42,\n",
       " 'get': 43,\n",
       " 'one': 44,\n",
       " 'its': 45,\n",
       " 'or': 46,\n",
       " 'when': 47,\n",
       " 'from': 48,\n",
       " 'would': 49,\n",
       " 'time': 50,\n",
       " 'up': 51,\n",
       " 'great': 52,\n",
       " 'service': 53,\n",
       " 'their': 54,\n",
       " 'about': 55,\n",
       " 'back': 56,\n",
       " 'go': 57,\n",
       " 'an': 58,\n",
       " 'really': 59,\n",
       " 'no': 60,\n",
       " 'what': 61,\n",
       " 'some': 62,\n",
       " 'which': 63,\n",
       " 'he': 64,\n",
       " 'been': 65,\n",
       " 'only': 66,\n",
       " 'your': 67,\n",
       " 'more': 68,\n",
       " 'she': 69,\n",
       " 'will': 70,\n",
       " 'us': 71,\n",
       " 'because': 72,\n",
       " 'dont': 73,\n",
       " 'can': 74,\n",
       " 'by': 75,\n",
       " 'got': 76,\n",
       " 'even': 77,\n",
       " 'other': 78,\n",
       " 'them': 79,\n",
       " 'didnt': 80,\n",
       " 'do': 81,\n",
       " 'also': 82,\n",
       " 'after': 83,\n",
       " 'too': 84,\n",
       " 'im': 85,\n",
       " 'nice': 86,\n",
       " 'ordered': 87,\n",
       " 'than': 88,\n",
       " 'did': 89,\n",
       " 'well': 90,\n",
       " 'has': 91,\n",
       " 'came': 92,\n",
       " 'much': 93,\n",
       " 'people': 94,\n",
       " 'order': 95,\n",
       " 'went': 96,\n",
       " 'could': 97,\n",
       " 'little': 98,\n",
       " 'over': 99,\n",
       " 'then': 100,\n",
       " 'never': 101,\n",
       " 'restaurant': 102,\n",
       " 'pretty': 103,\n",
       " 'first': 104,\n",
       " 'ive': 105,\n",
       " 'better': 106,\n",
       " 'said': 107,\n",
       " 'best': 108,\n",
       " 'know': 109,\n",
       " 'off': 110,\n",
       " 'again': 111,\n",
       " 'try': 112,\n",
       " 'chicken': 113,\n",
       " 'her': 114,\n",
       " 'going': 115,\n",
       " 'way': 116,\n",
       " 'how': 117,\n",
       " 'who': 118,\n",
       " 'come': 119,\n",
       " 'two': 120,\n",
       " 'think': 121,\n",
       " 'menu': 122,\n",
       " 'make': 123,\n",
       " 'am': 124,\n",
       " 'love': 125,\n",
       " 'room': 126,\n",
       " 'always': 127,\n",
       " 'bar': 128,\n",
       " 'any': 129,\n",
       " 'staff': 130,\n",
       " 'night': 131,\n",
       " 'before': 132,\n",
       " 'vegas': 133,\n",
       " 'minutes': 134,\n",
       " 'want': 135,\n",
       " 'bad': 136,\n",
       " 'made': 137,\n",
       " 'still': 138,\n",
       " 'down': 139,\n",
       " 'say': 140,\n",
       " 'around': 141,\n",
       " 'experience': 142,\n",
       " 'see': 143,\n",
       " 'wasnt': 144,\n",
       " 'right': 145,\n",
       " 'few': 146,\n",
       " 'table': 147,\n",
       " 'day': 148,\n",
       " 'take': 149,\n",
       " 'wait': 150,\n",
       " 'asked': 151,\n",
       " 'eat': 152,\n",
       " 'told': 153,\n",
       " 'give': 154,\n",
       " 'another': 155,\n",
       " 'while': 156,\n",
       " 'since': 157,\n",
       " 'took': 158,\n",
       " 'ever': 159,\n",
       " 'friendly': 160,\n",
       " 'new': 161,\n",
       " 'sure': 162,\n",
       " 'definitely': 163,\n",
       " 'being': 164,\n",
       " 'something': 165,\n",
       " 'next': 166,\n",
       " 'now': 167,\n",
       " 'sauce': 168,\n",
       " 'cheese': 169,\n",
       " 'most': 170,\n",
       " 'pizza': 171,\n",
       " 'times': 172,\n",
       " 'though': 173,\n",
       " 'into': 174,\n",
       " 'where': 175,\n",
       " 'bit': 176,\n",
       " 'price': 177,\n",
       " 'lot': 178,\n",
       " 'find': 179,\n",
       " 'small': 180,\n",
       " 'thing': 181,\n",
       " 'salad': 182,\n",
       " 'his': 183,\n",
       " 'many': 184,\n",
       " 'lunch': 185,\n",
       " 'last': 186,\n",
       " 'nothing': 187,\n",
       " 'wanted': 188,\n",
       " 'long': 189,\n",
       " 'everything': 190,\n",
       " 'meal': 191,\n",
       " 'drinks': 192,\n",
       " 'cant': 193,\n",
       " 'location': 194,\n",
       " 'should': 195,\n",
       " 'area': 196,\n",
       " 'every': 197,\n",
       " 'dinner': 198,\n",
       " 'delicious': 199,\n",
       " 'side': 200,\n",
       " 'fresh': 201,\n",
       " 'big': 202,\n",
       " 'ok': 203,\n",
       " 'drink': 204,\n",
       " 'hotel': 205,\n",
       " 'same': 206,\n",
       " 'nnthe': 207,\n",
       " 'hot': 208,\n",
       " 'stars': 209,\n",
       " 'tried': 210,\n",
       " 'youre': 211,\n",
       " 'both': 212,\n",
       " 'burger': 213,\n",
       " 'thats': 214,\n",
       " 'worth': 215,\n",
       " 'need': 216,\n",
       " 'hour': 217,\n",
       " 'enough': 218,\n",
       " 'check': 219,\n",
       " 'looking': 220,\n",
       " 'work': 221,\n",
       " 'amazing': 222,\n",
       " 'left': 223,\n",
       " 'server': 224,\n",
       " 'why': 225,\n",
       " 'fries': 226,\n",
       " 'nni': 227,\n",
       " 'different': 228,\n",
       " 'things': 229,\n",
       " 'thought': 230,\n",
       " 'away': 231,\n",
       " 'taste': 232,\n",
       " 'store': 233,\n",
       " 'probably': 234,\n",
       " 'feel': 235,\n",
       " 'home': 236,\n",
       " 'customer': 237,\n",
       " 'actually': 238,\n",
       " 'prices': 239,\n",
       " 'however': 240,\n",
       " 'friends': 241,\n",
       " 'anything': 242,\n",
       " 'happy': 243,\n",
       " 'meat': 244,\n",
       " 'quality': 245,\n",
       " 'maybe': 246,\n",
       " 'free': 247,\n",
       " 'recommend': 248,\n",
       " 'these': 249,\n",
       " 'him': 250,\n",
       " 'old': 251,\n",
       " 'sushi': 252,\n",
       " 'looked': 253,\n",
       " 'flavor': 254,\n",
       " 'line': 255,\n",
       " 'sandwich': 256,\n",
       " 'found': 257,\n",
       " 'places': 258,\n",
       " 'else': 259,\n",
       " 'once': 260,\n",
       " 'decided': 261,\n",
       " 'look': 262,\n",
       " 'special': 263,\n",
       " 'money': 264,\n",
       " 'called': 265,\n",
       " 'ask': 266,\n",
       " 'put': 267,\n",
       " 'kind': 268,\n",
       " 'getting': 269,\n",
       " 'beer': 270,\n",
       " 'clean': 271,\n",
       " 'friend': 272,\n",
       " 'years': 273,\n",
       " 'front': 274,\n",
       " 'full': 275,\n",
       " 'awesome': 276,\n",
       " 'quite': 277,\n",
       " 'visit': 278,\n",
       " 'decent': 279,\n",
       " 'bread': 280,\n",
       " 'least': 281,\n",
       " 'id': 282,\n",
       " 'through': 283,\n",
       " 'steak': 284,\n",
       " 'top': 285,\n",
       " 'pay': 286,\n",
       " 'half': 287,\n",
       " 'used': 288,\n",
       " 'show': 289,\n",
       " 'sweet': 290,\n",
       " 'waitress': 291,\n",
       " 'review': 292,\n",
       " 'manager': 293,\n",
       " 'water': 294,\n",
       " 'those': 295,\n",
       " 'breakfast': 296,\n",
       " 'rice': 297,\n",
       " 'stay': 298,\n",
       " 'done': 299,\n",
       " 'coffee': 300,\n",
       " 'each': 301,\n",
       " 'huge': 302,\n",
       " 'favorite': 303,\n",
       " 'inside': 304,\n",
       " 'super': 305,\n",
       " 'tasted': 306,\n",
       " 'finally': 307,\n",
       " 'large': 308,\n",
       " 'star': 309,\n",
       " 'almost': 310,\n",
       " 'selection': 311,\n",
       " 'strip': 312,\n",
       " 'fried': 313,\n",
       " 'open': 314,\n",
       " 'hard': 315,\n",
       " 'waiting': 316,\n",
       " 'use': 317,\n",
       " 'couple': 318,\n",
       " 'gave': 319,\n",
       " 'beef': 320,\n",
       " 'having': 321,\n",
       " 'tasty': 322,\n",
       " 'without': 323,\n",
       " 'car': 324,\n",
       " 'call': 325,\n",
       " 'dish': 326,\n",
       " 'seemed': 327,\n",
       " 'ill': 328,\n",
       " 'buffet': 329,\n",
       " 'couldnt': 330,\n",
       " 'let': 331,\n",
       " 'tables': 332,\n",
       " 'someone': 333,\n",
       " 'business': 334,\n",
       " 'atmosphere': 335,\n",
       " 'served': 336,\n",
       " 'soup': 337,\n",
       " 'items': 338,\n",
       " 'busy': 339,\n",
       " 'far': 340,\n",
       " 'reviews': 341,\n",
       " 'outside': 342,\n",
       " 'wont': 343,\n",
       " 'trying': 344,\n",
       " 'tell': 345,\n",
       " 'high': 346,\n",
       " 'disappointed': 347,\n",
       " 'fun': 348,\n",
       " 'everyone': 349,\n",
       " 'coming': 350,\n",
       " 'three': 351,\n",
       " 'part': 352,\n",
       " 'later': 353,\n",
       " 'usually': 354,\n",
       " 'whole': 355,\n",
       " 'excellent': 356,\n",
       " 'until': 357,\n",
       " 'eating': 358,\n",
       " 'husband': 359,\n",
       " 'wine': 360,\n",
       " 'person': 361,\n",
       " 'end': 362,\n",
       " 'isnt': 363,\n",
       " 'house': 364,\n",
       " 'waiter': 365,\n",
       " 'fish': 366,\n",
       " 'hours': 367,\n",
       " 'less': 368,\n",
       " 'guy': 369,\n",
       " 'such': 370,\n",
       " 'during': 371,\n",
       " 'doesnt': 372,\n",
       " 'walked': 373,\n",
       " 'walk': 374,\n",
       " 'wrong': 375,\n",
       " 'cool': 376,\n",
       " 'pm': 377,\n",
       " 'restaurants': 378,\n",
       " 'care': 379,\n",
       " 'town': 380,\n",
       " 'instead': 381,\n",
       " 'felt': 382,\n",
       " 'wouldnt': 383,\n",
       " 'cream': 384,\n",
       " 'cooked': 385,\n",
       " 'dishes': 386,\n",
       " 'shrimp': 387,\n",
       " 'close': 388,\n",
       " 'either': 389,\n",
       " 'does': 390,\n",
       " 'cold': 391,\n",
       " 'pork': 392,\n",
       " 'music': 393,\n",
       " 'plate': 394,\n",
       " 'enjoy': 395,\n",
       " 'waited': 396,\n",
       " 'door': 397,\n",
       " 'brought': 398,\n",
       " 'perfect': 399,\n",
       " 'point': 400,\n",
       " 'must': 401,\n",
       " 'second': 402,\n",
       " 'may': 403,\n",
       " 'family': 404,\n",
       " 'overall': 405,\n",
       " 'needed': 406,\n",
       " 'course': 407,\n",
       " 'especially': 408,\n",
       " 'deal': 409,\n",
       " 'party': 410,\n",
       " 'week': 411,\n",
       " 'might': 412,\n",
       " 'guess': 413,\n",
       " 'ice': 414,\n",
       " 'several': 415,\n",
       " 'dessert': 416,\n",
       " 'extra': 417,\n",
       " 'spot': 418,\n",
       " 'expect': 419,\n",
       " 'cheap': 420,\n",
       " 'spicy': 421,\n",
       " 'worst': 422,\n",
       " 'okay': 423,\n",
       " 'started': 424,\n",
       " 'reason': 425,\n",
       " 'arrived': 426,\n",
       " 'saw': 427,\n",
       " 'dining': 428,\n",
       " 'sat': 429,\n",
       " 'fast': 430,\n",
       " 'seated': 431,\n",
       " 'keep': 432,\n",
       " 'group': 433,\n",
       " 'comes': 434,\n",
       " 'sit': 435,\n",
       " 'fine': 436,\n",
       " 'own': 437,\n",
       " 'bring': 438,\n",
       " 'theres': 439,\n",
       " 'enjoyed': 440,\n",
       " 'shop': 441,\n",
       " 'days': 442,\n",
       " 'year': 443,\n",
       " 'kids': 444,\n",
       " 'leave': 445,\n",
       " 'help': 446,\n",
       " 'name': 447,\n",
       " 'chocolate': 448,\n",
       " 'quick': 449,\n",
       " 'loved': 450,\n",
       " 'dry': 451,\n",
       " 'yes': 452,\n",
       " 'oh': 453,\n",
       " 'parking': 454,\n",
       " 'stop': 455,\n",
       " 'seems': 456,\n",
       " 'red': 457,\n",
       " 'able': 458,\n",
       " 'wife': 459,\n",
       " 'rude': 460,\n",
       " 'although': 461,\n",
       " 'makes': 462,\n",
       " 'n': 463,\n",
       " 'fact': 464,\n",
       " 'slow': 465,\n",
       " 'return': 466,\n",
       " 'horrible': 467,\n",
       " 'job': 468,\n",
       " 'options': 469,\n",
       " 'customers': 470,\n",
       " 'problem': 471,\n",
       " 'plus': 472,\n",
       " 'expensive': 473,\n",
       " 'floor': 474,\n",
       " 'rooms': 475,\n",
       " 'real': 476,\n",
       " 'club': 477,\n",
       " 'paid': 478,\n",
       " 'rather': 479,\n",
       " 'liked': 480,\n",
       " 'extremely': 481,\n",
       " 'late': 482,\n",
       " 'start': 483,\n",
       " 'already': 484,\n",
       " 'pool': 485,\n",
       " 'myself': 486,\n",
       " 'stuff': 487,\n",
       " 'chips': 488,\n",
       " 'las': 489,\n",
       " 'yet': 490,\n",
       " 'average': 491,\n",
       " 'phone': 492,\n",
       " 'ate': 493,\n",
       " 'offer': 494,\n",
       " 'bill': 495,\n",
       " 'fan': 496,\n",
       " 'ended': 497,\n",
       " 'seem': 498,\n",
       " 'terrible': 499,\n",
       " 'live': 500,\n",
       " 'cut': 501,\n",
       " 'tea': 502,\n",
       " 'buy': 503,\n",
       " 'owner': 504,\n",
       " 'guys': 505,\n",
       " 'sitting': 506,\n",
       " 'anyone': 507,\n",
       " 'working': 508,\n",
       " 'tacos': 509,\n",
       " 'yelp': 510,\n",
       " 'absolutely': 511,\n",
       " 'size': 512,\n",
       " 'rolls': 513,\n",
       " 'given': 514,\n",
       " 'lots': 515,\n",
       " 'today': 516,\n",
       " 'bland': 517,\n",
       " 'street': 518,\n",
       " 'wish': 519,\n",
       " 'doing': 520,\n",
       " 'charge': 521,\n",
       " 'roll': 522,\n",
       " 'trip': 523,\n",
       " 'ago': 524,\n",
       " 'kitchen': 525,\n",
       " 'decor': 526,\n",
       " 'local': 527,\n",
       " 'thai': 528,\n",
       " 'mexican': 529,\n",
       " 'casino': 530,\n",
       " 'card': 531,\n",
       " 'making': 532,\n",
       " 'past': 533,\n",
       " 'seen': 534,\n",
       " 'hair': 535,\n",
       " 'mind': 536,\n",
       " 'regular': 537,\n",
       " 'bacon': 538,\n",
       " 'counter': 539,\n",
       " 'amount': 540,\n",
       " 'theyre': 541,\n",
       " 'short': 542,\n",
       " 'drive': 543,\n",
       " 'style': 544,\n",
       " 'green': 545,\n",
       " 'pick': 546,\n",
       " 'looks': 547,\n",
       " 'crab': 548,\n",
       " 'girl': 549,\n",
       " 'bbq': 550,\n",
       " 'werent': 551,\n",
       " 'between': 552,\n",
       " 'completely': 553,\n",
       " 'helpful': 554,\n",
       " 'wings': 555,\n",
       " 'entire': 556,\n",
       " 'heard': 557,\n",
       " 'impressed': 558,\n",
       " 'morning': 559,\n",
       " 'white': 560,\n",
       " 'wonderful': 561,\n",
       " 'dog': 562,\n",
       " 'burgers': 563,\n",
       " 'etc': 564,\n",
       " 'under': 565,\n",
       " 'portions': 566,\n",
       " 'kept': 567,\n",
       " 'ready': 568,\n",
       " 'fantastic': 569,\n",
       " 'believe': 570,\n",
       " 'change': 571,\n",
       " 'main': 572,\n",
       " 'gone': 573,\n",
       " 'lady': 574,\n",
       " 'gets': 575,\n",
       " 'itself': 576,\n",
       " 'rest': 577,\n",
       " 'employees': 578,\n",
       " 'cake': 579,\n",
       " 'behind': 580,\n",
       " 'light': 581,\n",
       " 'run': 582,\n",
       " 'poor': 583,\n",
       " 'set': 584,\n",
       " 'appetizer': 585,\n",
       " 'serve': 586,\n",
       " 'quickly': 587,\n",
       " 'empty': 588,\n",
       " 'glass': 589,\n",
       " 'twice': 590,\n",
       " 'nnwe': 591,\n",
       " 'saturday': 592,\n",
       " 'received': 593,\n",
       " 'taking': 594,\n",
       " 'remember': 595,\n",
       " 'stayed': 596,\n",
       " 'expected': 597,\n",
       " 'walking': 598,\n",
       " 'mean': 599,\n",
       " 'egg': 600,\n",
       " 'early': 601,\n",
       " 'list': 602,\n",
       " 'soon': 603,\n",
       " 'understand': 604,\n",
       " 'salsa': 605,\n",
       " 'easy': 606,\n",
       " 'chinese': 607,\n",
       " 'across': 608,\n",
       " 'de': 609,\n",
       " 'beautiful': 610,\n",
       " 'french': 611,\n",
       " 'seating': 612,\n",
       " 'weekend': 613,\n",
       " 'offered': 614,\n",
       " 'warm': 615,\n",
       " 'four': 616,\n",
       " 'la': 617,\n",
       " 'hit': 618,\n",
       " 'others': 619,\n",
       " 'potatoes': 620,\n",
       " 'highly': 621,\n",
       " 'needs': 622,\n",
       " 'choice': 623,\n",
       " 'near': 624,\n",
       " 'desk': 625,\n",
       " 'eggs': 626,\n",
       " 'tip': 627,\n",
       " 'man': 628,\n",
       " 'patio': 629,\n",
       " 'plenty': 630,\n",
       " 'attentive': 631,\n",
       " 'seriously': 632,\n",
       " 'stopped': 633,\n",
       " 'orders': 634,\n",
       " 'potato': 635,\n",
       " 'view': 636,\n",
       " 'often': 637,\n",
       " 'flavors': 638,\n",
       " 'bite': 639,\n",
       " 'saying': 640,\n",
       " 'pasta': 641,\n",
       " 'cost': 642,\n",
       " 'knew': 643,\n",
       " 'priced': 644,\n",
       " 'available': 645,\n",
       " 'company': 646,\n",
       " 'paying': 647,\n",
       " 'ordering': 648,\n",
       " 'portion': 649,\n",
       " 'beans': 650,\n",
       " 'unfortunately': 651,\n",
       " 'dirty': 652,\n",
       " 'overpriced': 653,\n",
       " 'servers': 654,\n",
       " 'type': 655,\n",
       " 'totally': 656,\n",
       " 'due': 657,\n",
       " 'months': 658,\n",
       " 'read': 659,\n",
       " 'variety': 660,\n",
       " 'italian': 661,\n",
       " 'add': 662,\n",
       " 'spend': 663,\n",
       " 'watch': 664,\n",
       " 'giving': 665,\n",
       " 'loud': 666,\n",
       " 'sign': 667,\n",
       " 'noticed': 668,\n",
       " 'youll': 669,\n",
       " 'hand': 670,\n",
       " 'along': 671,\n",
       " 'grilled': 672,\n",
       " 'evening': 673,\n",
       " 'sandwiches': 674,\n",
       " 'sunday': 675,\n",
       " 'friday': 676,\n",
       " 'reasonable': 677,\n",
       " 'girls': 678,\n",
       " 'bowl': 679,\n",
       " 'sometimes': 680,\n",
       " 'sorry': 681,\n",
       " 'space': 682,\n",
       " 'taken': 683,\n",
       " 'garlic': 684,\n",
       " 'idea': 685,\n",
       " 'simple': 686,\n",
       " 'phoenix': 687,\n",
       " 'life': 688,\n",
       " 'office': 689,\n",
       " 'unless': 690,\n",
       " 'packed': 691,\n",
       " 'perfectly': 692,\n",
       " 'game': 693,\n",
       " 'literally': 694,\n",
       " 'chef': 695,\n",
       " 'excited': 696,\n",
       " 'located': 697,\n",
       " 'bartender': 698,\n",
       " 'ones': 699,\n",
       " 'surprised': 700,\n",
       " 'birthday': 701,\n",
       " 'bathroom': 702,\n",
       " 'seafood': 703,\n",
       " 'taco': 704,\n",
       " 'please': 705,\n",
       " 'black': 706,\n",
       " 'head': 707,\n",
       " 'hope': 708,\n",
       " 'lobster': 709,\n",
       " 'havent': 710,\n",
       " 'mediocre': 711,\n",
       " 'yummy': 712,\n",
       " 'says': 713,\n",
       " 'bottle': 714,\n",
       " 'number': 715,\n",
       " 'hungry': 716,\n",
       " 'talk': 717,\n",
       " 'butter': 718,\n",
       " 'middle': 719,\n",
       " 'choose': 720,\n",
       " 'eaten': 721,\n",
       " 'pieces': 722,\n",
       " 'crowd': 723,\n",
       " 'turned': 724,\n",
       " 'five': 725,\n",
       " 'piece': 726,\n",
       " 'minute': 727,\n",
       " 'together': 728,\n",
       " 'comfortable': 729,\n",
       " 'spent': 730,\n",
       " 'salmon': 731,\n",
       " 'plates': 732,\n",
       " 'opened': 733,\n",
       " 'salty': 734,\n",
       " 'checked': 735,\n",
       " 'weeks': 736,\n",
       " 'within': 737,\n",
       " 'city': 738,\n",
       " 'reservation': 739,\n",
       " 'per': 740,\n",
       " 'noodles': 741,\n",
       " 'hear': 742,\n",
       " 'yourself': 743,\n",
       " 'arent': 744,\n",
       " 'moved': 745,\n",
       " 'boyfriend': 746,\n",
       " 'frozen': 747,\n",
       " 'pho': 748,\n",
       " 'closed': 749,\n",
       " 'charged': 750,\n",
       " 'pricey': 751,\n",
       " 'seat': 752,\n",
       " 'somewhere': 753,\n",
       " 'awful': 754,\n",
       " 'crispy': 755,\n",
       " 'total': 756,\n",
       " 'medium': 757,\n",
       " 'bought': 758,\n",
       " 'immediately': 759,\n",
       " 'credit': 760,\n",
       " 'hostess': 761,\n",
       " 'longer': 762,\n",
       " 'talking': 763,\n",
       " 'exactly': 764,\n",
       " 'based': 765,\n",
       " 'recently': 766,\n",
       " 'standard': 767,\n",
       " 'park': 768,\n",
       " 'mall': 769,\n",
       " 'including': 770,\n",
       " 'cup': 771,\n",
       " 'play': 772,\n",
       " 'low': 773,\n",
       " 'disappointing': 774,\n",
       " 'beers': 775,\n",
       " 'happened': 776,\n",
       " 'feeling': 777,\n",
       " 'wow': 778,\n",
       " 'issue': 779,\n",
       " 'choices': 780,\n",
       " 'staying': 781,\n",
       " 'except': 782,\n",
       " 'prepared': 783,\n",
       " 'th': 784,\n",
       " 'goes': 785,\n",
       " 'supposed': 786,\n",
       " 'thank': 787,\n",
       " 'appointment': 788,\n",
       " 'oil': 789,\n",
       " 'month': 790,\n",
       " 'chance': 791,\n",
       " 'option': 792,\n",
       " 'ingredients': 793,\n",
       " 'ambiance': 794,\n",
       " 'bed': 795,\n",
       " 'onion': 796,\n",
       " 'crowded': 797,\n",
       " 'interesting': 798,\n",
       " 'appetizers': 799,\n",
       " 'shopping': 800,\n",
       " 'basically': 801,\n",
       " 'management': 802,\n",
       " 'case': 803,\n",
       " 'meals': 804,\n",
       " 'center': 805,\n",
       " 'glad': 806,\n",
       " 'takes': 807,\n",
       " 'tiny': 808,\n",
       " 'burrito': 809,\n",
       " 'sort': 810,\n",
       " 'upon': 811,\n",
       " 'mention': 812,\n",
       " 'asking': 813,\n",
       " 'added': 814,\n",
       " 'honestly': 815,\n",
       " 'flavorful': 816,\n",
       " 'stand': 817,\n",
       " 'specials': 818,\n",
       " 'world': 819,\n",
       " 'curry': 820,\n",
       " 'simply': 821,\n",
       " 'worse': 822,\n",
       " 'brunch': 823,\n",
       " 'min': 824,\n",
       " 'mac': 825,\n",
       " 'filled': 826,\n",
       " 'fix': 827,\n",
       " 'nthe': 828,\n",
       " 'dark': 829,\n",
       " 'whatever': 830,\n",
       " 'sides': 831,\n",
       " 'typical': 832,\n",
       " 'attention': 833,\n",
       " 'rib': 834,\n",
       " 'cafe': 835,\n",
       " 'move': 836,\n",
       " 'tomato': 837,\n",
       " 'finish': 838,\n",
       " 'cute': 839,\n",
       " 'salt': 840,\n",
       " 'lack': 841,\n",
       " 's': 842,\n",
       " 'write': 843,\n",
       " 'kinda': 844,\n",
       " 'downtown': 845,\n",
       " 'serving': 846,\n",
       " 'pleasant': 847,\n",
       " 'certainly': 848,\n",
       " 'ni': 849,\n",
       " 'above': 850,\n",
       " 'asian': 851,\n",
       " 'entrees': 852,\n",
       " 'hate': 853,\n",
       " 'tuna': 854,\n",
       " 'thanks': 855,\n",
       " 'weird': 856,\n",
       " 'anywhere': 857,\n",
       " 'waste': 858,\n",
       " 'showed': 859,\n",
       " 'soft': 860,\n",
       " 'thinking': 861,\n",
       " 'tender': 862,\n",
       " 'mixed': 863,\n",
       " 'sausage': 864,\n",
       " 'date': 865,\n",
       " 'tv': 866,\n",
       " 'crust': 867,\n",
       " 'airport': 868,\n",
       " 'changed': 869,\n",
       " 'scottsdale': 870,\n",
       " 'dance': 871,\n",
       " 'sad': 872,\n",
       " 'mine': 873,\n",
       " 'cash': 874,\n",
       " 'authentic': 875,\n",
       " 'miss': 876,\n",
       " 'greasy': 877,\n",
       " 'hands': 878,\n",
       " 'recommended': 879,\n",
       " 'attitude': 880,\n",
       " 'seats': 881,\n",
       " 'mouth': 882,\n",
       " 'anyway': 883,\n",
       " 'barely': 884,\n",
       " 'thin': 885,\n",
       " 'rating': 886,\n",
       " 'lost': 887,\n",
       " 'box': 888,\n",
       " 'fairly': 889,\n",
       " 'considering': 890,\n",
       " 'level': 891,\n",
       " 'save': 892,\n",
       " 'note': 893,\n",
       " 'wall': 894,\n",
       " 'apparently': 895,\n",
       " 'lettuce': 896,\n",
       " 'expecting': 897,\n",
       " 'bucks': 898,\n",
       " 'finished': 899,\n",
       " 'playing': 900,\n",
       " 'greeted': 901,\n",
       " 'dollars': 902,\n",
       " 'fair': 903,\n",
       " 'worked': 904,\n",
       " 'forward': 905,\n",
       " 'entree': 906,\n",
       " 'ribs': 907,\n",
       " 'dressing': 908,\n",
       " 'running': 909,\n",
       " 'face': 910,\n",
       " 'slightly': 911,\n",
       " 'avoid': 912,\n",
       " 'single': 913,\n",
       " 'young': 914,\n",
       " 'share': 915,\n",
       " 'unique': 916,\n",
       " 'cook': 917,\n",
       " 'cannot': 918,\n",
       " 'tasting': 919,\n",
       " 'salads': 920,\n",
       " 'corn': 921,\n",
       " 'picked': 922,\n",
       " 'mix': 923,\n",
       " 'toast': 924,\n",
       " 'mentioned': 925,\n",
       " 'forgot': 926,\n",
       " 'joint': 927,\n",
       " 'item': 928,\n",
       " 'section': 929,\n",
       " 'sent': 930,\n",
       " 'crazy': 931,\n",
       " 'nnmy': 932,\n",
       " 'onions': 933,\n",
       " 'woman': 934,\n",
       " 'mostly': 935,\n",
       " 'clearly': 936,\n",
       " 'eye': 937,\n",
       " 'turn': 938,\n",
       " 'toppings': 939,\n",
       " 'bag': 940,\n",
       " 'included': 941,\n",
       " 'afternoon': 942,\n",
       " 'grab': 943,\n",
       " 'nights': 944,\n",
       " 'obviously': 945,\n",
       " 'online': 946,\n",
       " 'tastes': 947,\n",
       " 'nn': 948,\n",
       " 'dogs': 949,\n",
       " 'truly': 950,\n",
       " 'perhaps': 951,\n",
       " 'chain': 952,\n",
       " 'rare': 953,\n",
       " 'value': 954,\n",
       " 'desserts': 955,\n",
       " 'book': 956,\n",
       " 'station': 957,\n",
       " 'yeah': 958,\n",
       " 'leaving': 959,\n",
       " 'matter': 960,\n",
       " 'mins': 961,\n",
       " 'using': 962,\n",
       " 'means': 963,\n",
       " 'establishment': 964,\n",
       " 'forever': 965,\n",
       " 'massage': 966,\n",
       " 'chose': 967,\n",
       " 'opinion': 968,\n",
       " 'delivery': 969,\n",
       " 'smell': 970,\n",
       " 'pass': 971,\n",
       " 'school': 972,\n",
       " 'blue': 973,\n",
       " 'baked': 974,\n",
       " 'seeing': 975,\n",
       " 'valley': 976,\n",
       " 'elsewhere': 977,\n",
       " 'easily': 978,\n",
       " 'nails': 979,\n",
       " 'visited': 980,\n",
       " 'grill': 981,\n",
       " 'watching': 982,\n",
       " 'professional': 983,\n",
       " 'le': 984,\n",
       " 'chili': 985,\n",
       " 'veggies': 986,\n",
       " 'none': 987,\n",
       " 'pie': 988,\n",
       " 'prime': 989,\n",
       " 'sour': 990,\n",
       " 'die': 991,\n",
       " 'mom': 992,\n",
       " 'plan': 993,\n",
       " 'solid': 994,\n",
       " 'stores': 995,\n",
       " 'normally': 996,\n",
       " 'window': 997,\n",
       " 'chairs': 998,\n",
       " 'st': 999,\n",
       " 'shot': 1000,\n",
       " ...}"
      ]
     },
     "execution_count": 70,
     "metadata": {},
     "output_type": "execute_result"
    }
   ],
   "source": [
    "tokenizer.word_index"
   ]
  },
  {
   "cell_type": "markdown",
   "metadata": {},
   "source": [
    "### Prepare the target vectors for the network"
   ]
  },
  {
   "cell_type": "code",
   "execution_count": 71,
   "metadata": {},
   "outputs": [
    {
     "data": {
      "text/plain": [
       "array([[    0,     0,     0,     0,     0,     0,     0,     0,     0,\n",
       "            0,     0,     0,     0,     0,     0,     0,     0,     0,\n",
       "            0,     0,     0,     0,     0,     0,     0,     0,     0,\n",
       "            0,     0,     0,     0,     0,     0,     0,     0,     0,\n",
       "            0,     0,     0,     0,     0,     0,     0,     0,     0,\n",
       "            0,     0,     0,     0,     0,     0,     0,     0,     0,\n",
       "            0,     0,     0,     0,     0,     0,     0,     0,     0,\n",
       "            0,     0,     0,     0,     0,     0,     0,     0,     0,\n",
       "            0,     0,     0,     0,     0,     0,     0,     0,     0,\n",
       "            0,     0,     0,     0,     0,     0,     0,     0,     0,\n",
       "            0,     0,     0,     0,     0,     0,     0,     0,     0,\n",
       "            0,     0,     0,     0,     0,     0,     0,     0,     0,\n",
       "            0,     0,     0,     0,     0,     0,     0,     0,     0,\n",
       "            0,     0,     0,     0,     0,     0,     0,     0,     0,\n",
       "            0,     0,     0,     0,     0,     0,     0,     0,     0,\n",
       "            0,     0,     0,     0,     0,     0,     0,     0,     0,\n",
       "            0,     0,     0,     0,     0,     0,     0,     0,     0,\n",
       "            0,     0,     0,     0,     0,     0,     0,     0,     0,\n",
       "            0,     0,     0,     0,     0,     0,     0,     0,     0,\n",
       "            0,     0,     0,     0,     0,     0,     0,     0,     0,\n",
       "            0,     0,     0,     0,     0,     0,     0,     0,     0,\n",
       "            0,     0,     0,     0,     0,     0,     0,     0,     0,\n",
       "            0,     0,     0,     0,     0,     0,     0,     0,     0,\n",
       "            0,     0,     0,     0,     0,     0,     0,     0,     0,\n",
       "            0,     0,     0,     0,     0,     0,     0,     0,     0,\n",
       "            0,     0,     0,     0,     0,     0,     0,     0,    21,\n",
       "          162,   225,    32,    27,   370,   136,   341,     9,    17,\n",
       "          194,    33,   340,    33,  1276,    57,     8,    11,   103,\n",
       "          491,    21,   408,   136,    18,    43,  1646,  3504,   110,\n",
       "          657,     5,     1,   180,   512,     2,   841,     7,   682,\n",
       "           20,    74,    66,   374,    51,    46,   543,  1529,    25,\n",
       "           17,   194,    14,     1,   543,  1529,    11,   449,   218,\n",
       "          105,   101,    23,   129,  1007,    16,    13,    95,   269,\n",
       "          863,    51,    46,   880,    48,     1,  5357,     4,   935,\n",
       "          278,    10,  4557,    46,   942,     2,     8,    11,   101,\n",
       "          339,   105,    82,    65,   371,   559,   367,    14,    21,\n",
       "          305,   601,    26,     4,   193,  1714,    19,   601,   559,\n",
       "           35,    17,   773,   886,    11,  5042, 12472,    48,    94,\n",
       "          118,    73,    35,  1276,   300,    10,  1085,  3431,    14,\n",
       "            4,   519,    15,    97,    36,  4653,    38,   295,   341,\n",
       "           83,    39,    15,    39,   109,    61,  1276,    11,     2,\n",
       "          363,    75,   167,    62,     7,    71,   216,    58,  3831,\n",
       "          292,     7,     1,   194,   323,   300, 12473,     1,   886,\n",
       "         2467,    32,     4,   941,     1, 11502,    26,    13,  5332,\n",
       "          300,   193,   149,  7483],\n",
       "       [    0,     0,     0,     0,     0,     0,     0,     0,     0,\n",
       "            0,     0,     0,     0,     0,     0,     0,     0,     0,\n",
       "            0,     0,     0,     0,     0,     0,     0,     0,     0,\n",
       "            0,     0,     0,     0,     0,     0,     0,     0,     0,\n",
       "            0,     0,     0,     0,     0,     0,     0,     0,     0,\n",
       "            0,     0,     0,     0,     0,     0,     0,     0,     0,\n",
       "            0,     0,     0,     0,     0,     0,     0,     0,     0,\n",
       "            0,     0,     0,     0,     0,     0,     0,     0,     0,\n",
       "            0,     0,     0,     0,     0,     0,     0,     0,     0,\n",
       "            0,     0,     0,     0,    17,    11,  4233,  2131,    33,\n",
       "           10, 12737,     2,     1,  4774,    37,   211,   220,     9,\n",
       "         1122,  3235,  4415,     2,  6950,  8419,  2131,   211,    25,\n",
       "            1,   375,   289,    36,  7833,  2517,     4,  2531,   248,\n",
       "        19300,    37,   211,   220,     5,    29,  5058,    75,   165,\n",
       "           78,    88,     3,  1940,  2690,    46,   289,    15,   497,\n",
       "           51,    36,  3200,    41,  8810,    48,     1,  2053,   625,\n",
       "          157,    15,    24,   781,    25,     1,  2053,    84,  1934,\n",
       "            5,    57,     5,  1194,  8810,    46,   262,     9,  1069,\n",
       "          699,    15,    76,     1,  2703,  1137,    63,    24,   141,\n",
       "          898,  4003,     4,   557,     1,   318,   166,     5,    71,\n",
       "          266,    37,    18,    23,  5303,  8918,  4214,     2,    18,\n",
       "           24,  3322,    51,   129,   752,    11,    30,   157,    45,\n",
       "           21,     3,   302,  1448,    32,   744,   129,  2930, 13764,\n",
       "           46,   857,    26,    60,   791,     7,   321,     5,   664,\n",
       "           16,    67,  3334,   724,    25,     3,  7156,    15,    24,\n",
       "          506,     1,  1632,    46,   784,  2167,    48,     1,    56,\n",
       "            2,     8,     6,   436,    26,   690,    20,   235,     1,\n",
       "          216,     5,    29,    51,   388,     2,  1150,   211,   436,\n",
       "          269,     1,   420,     4,   109,    85,   269,  1281,    47,\n",
       "            4,   135,     5,   742,   393,    13,     2,   443,   251,\n",
       "         1531,  1936,     5,  4888,     2,     4,    24,    35,    44,\n",
       "            7,     1,  8320,  2940,    32,    10,    41,   842,    14,\n",
       "         2038,    11,   187,    14,     3,    42,     4,   343,    57,\n",
       "          174,  2532,   157,    20,   195,   143,     8,     9,   743,\n",
       "           14,     4,    70,    29,  1184,     1,  1811,    11,   844,\n",
       "         1601,     4,   595, 11975,     5,     1,  4888,     8,   106,\n",
       "          546,    51,    46,     4,     6,   568,     5,   149,     3,\n",
       "         6113,    14,    83,   134,     8,  5588,    51, 19300,    11,\n",
       "           39,    55,   117, 12737,  1841, 12737,     2,     1,  4774,\n",
       "         2103,  3941,  1642,     2,    52,  3155,     4,     6,   238,\n",
       "          700,    75,   117,   184,     7,    54,  2888,     4,   643,\n",
       "           26,   435,    56,  2126,     2,   395, 13409,    35,   842,\n",
       "          925,  6032,    21,     1,   108,   289,     5,   438,   444,\n",
       "            5,   157,    32,    11,    62, 15896,     2,  3763,  2669,\n",
       "          115,     5,     1,  3382]])"
      ]
     },
     "execution_count": 71,
     "metadata": {},
     "output_type": "execute_result"
    }
   ],
   "source": [
    "x_train[:2]"
   ]
  },
  {
   "cell_type": "code",
   "execution_count": 18,
   "metadata": {},
   "outputs": [
    {
     "name": "stdout",
     "output_type": "stream",
     "text": [
      "[3, 5, 1, 2, 4]\n"
     ]
    }
   ],
   "source": [
    "unique_labels = list(raw_data.Rating.unique())\n",
    "print(unique_labels)"
   ]
  },
  {
   "cell_type": "code",
   "execution_count": 19,
   "metadata": {},
   "outputs": [],
   "source": [
    "from keras.utils import to_categorical # This convers the labels to one-hot vectors(Dummies)\n",
    "\n",
    "y_train = np.array([unique_labels.index(i) for i in raw_data.Rating]) # Convert the word labels to indeces\n",
    "y_train = to_categorical(y_train) # Dummify the labels\n",
    "y_test = np.array([unique_labels.index(i) for i in raw_test_data.Rating])\n",
    "y_test = to_categorical(y_test)"
   ]
  },
  {
   "cell_type": "code",
   "execution_count": 20,
   "metadata": {},
   "outputs": [],
   "source": [
    "import keras.backend as K # This 'K' can be used to create user defined functions in keras\n",
    "\n",
    "# Define a custom function in keras to compute recall.\n",
    "# Arguments:\n",
    "# y_true - Actual labels\n",
    "# y_pred - Predicted labels\n",
    "def recall(y_true, y_pred):\n",
    "    TP = K.sum(K.round(K.clip(y_true * y_pred, 0, 1)))\n",
    "    PP = K.sum(K.round(K.clip(y_true, 0, 1)))\n",
    "    recall = TP / (PP + K.epsilon())\n",
    "    return recall"
   ]
  },
  {
   "cell_type": "markdown",
   "metadata": {},
   "source": [
    "### Building and training an LSTM model"
   ]
  },
  {
   "cell_type": "code",
   "execution_count": 30,
   "metadata": {},
   "outputs": [],
   "source": [
    "# Building an LSTM model\n",
    "model = Sequential() # Call Sequential to initialize a network\n",
    "model.add(Embedding(input_dim = max_num_words, \n",
    "                    input_length = seq_len, \n",
    "                    output_dim = embedding_size)) # Add an embedding layer which represents each unique token as a vector\n",
    "#model.add(LSTM(10, return_sequences=True)) # Add an LSTM layer\n",
    "model.add(Conv1D(128, 5, activation='relu'))\n",
    "model.add(MaxPooling1D(5))\n",
    "model.add(Conv1D(128, 5, activation='relu'))\n",
    "#model.add(MaxPooling1D(5))\n",
    "#model.add(Conv1D(128, 5, activation='relu'))\n",
    "model.add(GlobalMaxPooling1D())\n",
    "model.add(Dense(128, activation='relu'))\n",
    "model.add(Dense(5, activation='softmax')) # Add an ouput layer. Since classification, 3 nodes for 3 classes."
   ]
  },
  {
   "cell_type": "code",
   "execution_count": 31,
   "metadata": {},
   "outputs": [
    {
     "name": "stdout",
     "output_type": "stream",
     "text": [
      "_________________________________________________________________\n",
      "Layer (type)                 Output Shape              Param #   \n",
      "=================================================================\n",
      "embedding_5 (Embedding)      (None, 400, 32)           640000    \n",
      "_________________________________________________________________\n",
      "conv1d_10 (Conv1D)           (None, 396, 128)          20608     \n",
      "_________________________________________________________________\n",
      "max_pooling1d_7 (MaxPooling1 (None, 79, 128)           0         \n",
      "_________________________________________________________________\n",
      "conv1d_11 (Conv1D)           (None, 75, 128)           82048     \n",
      "_________________________________________________________________\n",
      "global_max_pooling1d_2 (Glob (None, 128)               0         \n",
      "_________________________________________________________________\n",
      "dense_3 (Dense)              (None, 128)               16512     \n",
      "_________________________________________________________________\n",
      "dense_4 (Dense)              (None, 5)                 645       \n",
      "=================================================================\n",
      "Total params: 759,813\n",
      "Trainable params: 759,813\n",
      "Non-trainable params: 0\n",
      "_________________________________________________________________\n"
     ]
    }
   ],
   "source": [
    "model.summary()"
   ]
  },
  {
   "cell_type": "code",
   "execution_count": 32,
   "metadata": {},
   "outputs": [],
   "source": [
    "from keras.optimizers import Adam\n",
    "adam = Adam(lr=0.01)"
   ]
  },
  {
   "cell_type": "code",
   "execution_count": null,
   "metadata": {
    "scrolled": false
   },
   "outputs": [
    {
     "name": "stdout",
     "output_type": "stream",
     "text": [
      "Train on 50000 samples, validate on 50000 samples\n",
      "Epoch 1/3\n",
      "50000/50000 [==============================] - 1956s 39ms/step - loss: 1.1768 - acc: 0.4687 - val_loss: 1.0996 - val_acc: 0.4994\n",
      "Epoch 2/3\n",
      "37440/50000 [=====================>........] - ETA: 10:31 - loss: 0.9633 - acc: 0.5772"
     ]
    }
   ],
   "source": [
    "# Mention the optimizer, Loss function and metrics to be computed\n",
    "model.compile(optimizer=adam,                  # 'Adam' is a variant of gradient descent technique\n",
    "              loss='categorical_crossentropy', # categorical_crossentropy for multi-class classification\n",
    "              metrics=['accuracy'])            # These metrics are computed for evaluating and stored in history\n",
    "\n",
    "hist = model.fit(x_train, y_train, epochs=3, batch_size=64, validation_split=0.5)"
   ]
  },
  {
   "cell_type": "markdown",
   "metadata": {},
   "source": [
    "### Prediction and evaluation on test data\n",
    "1. Check the network output on test data. What do these values represent?\n",
    "2. Predict the class labels on test data\n",
    "2. Evaluate the model on test data\n",
    "\n",
    "Hint: Check model.predict, model.predict_classes, model.evaluate in keras"
   ]
  },
  {
   "cell_type": "code",
   "execution_count": 83,
   "metadata": {},
   "outputs": [
    {
     "data": {
      "text/plain": [
       "(50000, 5)"
      ]
     },
     "execution_count": 83,
     "metadata": {},
     "output_type": "execute_result"
    }
   ],
   "source": [
    "test_prob = model.predict(x_test)\n",
    "test_prob.shape"
   ]
  },
  {
   "cell_type": "code",
   "execution_count": 84,
   "metadata": {},
   "outputs": [
    {
     "data": {
      "text/plain": [
       "array([[1.1927897e-02, 4.6400461e-02, 9.0910357e-01, 2.6089994e-02,\n",
       "        6.4780507e-03],\n",
       "       [2.2966247e-03, 1.2917294e-03, 9.5121670e-01, 4.4544749e-02,\n",
       "        6.5017806e-04],\n",
       "       [1.5728736e-02, 1.0053492e-03, 8.1425256e-01, 1.6738100e-01,\n",
       "        1.6323308e-03],\n",
       "       [2.4099227e-02, 3.5055433e-04, 5.5162960e-01, 4.2284080e-01,\n",
       "        1.0798245e-03],\n",
       "       [1.8477701e-02, 1.7427143e-03, 8.4170526e-01, 1.3513272e-01,\n",
       "        2.9415824e-03]], dtype=float32)"
      ]
     },
     "execution_count": 84,
     "metadata": {},
     "output_type": "execute_result"
    }
   ],
   "source": [
    "test_prob[:5]"
   ]
  },
  {
   "cell_type": "code",
   "execution_count": 85,
   "metadata": {},
   "outputs": [
    {
     "data": {
      "text/plain": [
       "(50000,)"
      ]
     },
     "execution_count": 85,
     "metadata": {},
     "output_type": "execute_result"
    }
   ],
   "source": [
    "test_classes = model.predict_classes(x_test)\n",
    "test_classes.shape"
   ]
  },
  {
   "cell_type": "code",
   "execution_count": 15,
   "metadata": {},
   "outputs": [
    {
     "data": {
      "text/plain": [
       "(1000,)"
      ]
     },
     "execution_count": 15,
     "metadata": {},
     "output_type": "execute_result"
    }
   ],
   "source": [
    "test_classes = np.argmax(test_prob, axis=1)\n",
    "test_classes.shape"
   ]
  },
  {
   "cell_type": "markdown",
   "metadata": {},
   "source": [
    "### Understanding an intermediate layer in keras\n",
    "Please understand the below code to get output from an intermediate layer in keras. you can do this for every layer to fully understand how the tensors/arrays are flowing through the layers."
   ]
  },
  {
   "cell_type": "code",
   "execution_count": 16,
   "metadata": {},
   "outputs": [
    {
     "data": {
      "text/plain": [
       "[<keras.layers.embeddings.Embedding at 0x7fec4e179ef0>,\n",
       " <keras.layers.recurrent.LSTM at 0x7fed09776978>,\n",
       " <keras.layers.core.Dense at 0x7fec4e18d1d0>]"
      ]
     },
     "execution_count": 16,
     "metadata": {},
     "output_type": "execute_result"
    }
   ],
   "source": [
    "model.layers"
   ]
  },
  {
   "cell_type": "code",
   "execution_count": 17,
   "metadata": {},
   "outputs": [
    {
     "name": "stdout",
     "output_type": "stream",
     "text": [
      "<class 'list'>\n",
      "2\n",
      "(5, 50, 100)\n"
     ]
    }
   ],
   "source": [
    "import keras.backend as K \n",
    "# Create a user defined function in keras, where we mention the input and output\n",
    "# This function returns a list\n",
    "eo = K.function([model.layers[0].input],\n",
    "                  [model.layers[0].output, model.layers[1].output])\n",
    "\n",
    "out = eo([x_train[0:5]]) \n",
    "print(type(out))\n",
    "print(len(out))\n",
    "print(out[0].shape)"
   ]
  },
  {
   "cell_type": "code",
   "execution_count": 18,
   "metadata": {},
   "outputs": [
    {
     "name": "stdout",
     "output_type": "stream",
     "text": [
      "(5, 10)\n"
     ]
    }
   ],
   "source": [
    "print(out[1].shape)"
   ]
  },
  {
   "cell_type": "code",
   "execution_count": 87,
   "metadata": {},
   "outputs": [
    {
     "data": {
      "text/plain": [
       "pandas.core.series.Series"
      ]
     },
     "execution_count": 87,
     "metadata": {},
     "output_type": "execute_result"
    }
   ],
   "source": [
    "type(raw_test_data['Rating'])"
   ]
  },
  {
   "cell_type": "code",
   "execution_count": 88,
   "metadata": {},
   "outputs": [
    {
     "data": {
      "text/plain": [
       "0        1\n",
       "1        1\n",
       "2        1\n",
       "3        1\n",
       "4        1\n",
       "5        3\n",
       "6        2\n",
       "7        4\n",
       "8        4\n",
       "9        3\n",
       "10       2\n",
       "11       4\n",
       "12       1\n",
       "13       2\n",
       "14       4\n",
       "15       4\n",
       "16       3\n",
       "17       1\n",
       "18       1\n",
       "19       3\n",
       "20       2\n",
       "21       3\n",
       "22       2\n",
       "23       3\n",
       "24       3\n",
       "25       1\n",
       "26       2\n",
       "27       4\n",
       "28       5\n",
       "29       2\n",
       "        ..\n",
       "49970    4\n",
       "49971    1\n",
       "49972    5\n",
       "49973    2\n",
       "49974    3\n",
       "49975    5\n",
       "49976    1\n",
       "49977    5\n",
       "49978    2\n",
       "49979    2\n",
       "49980    1\n",
       "49981    2\n",
       "49982    5\n",
       "49983    1\n",
       "49984    5\n",
       "49985    5\n",
       "49986    3\n",
       "49987    4\n",
       "49988    4\n",
       "49989    5\n",
       "49990    5\n",
       "49991    3\n",
       "49992    1\n",
       "49993    1\n",
       "49994    1\n",
       "49995    1\n",
       "49996    5\n",
       "49997    4\n",
       "49998    2\n",
       "49999    1\n",
       "Name: Rating, Length: 50000, dtype: int64"
      ]
     },
     "execution_count": 88,
     "metadata": {},
     "output_type": "execute_result"
    }
   ],
   "source": [
    "raw_test_data['Rating']"
   ]
  },
  {
   "cell_type": "code",
   "execution_count": 89,
   "metadata": {},
   "outputs": [
    {
     "data": {
      "text/plain": [
       "(50000,)"
      ]
     },
     "execution_count": 89,
     "metadata": {},
     "output_type": "execute_result"
    }
   ],
   "source": [
    "raw_test_data['Rating'].shape"
   ]
  },
  {
   "cell_type": "code",
   "execution_count": 90,
   "metadata": {},
   "outputs": [],
   "source": [
    "raw_test_data['Rating'] = test_classes"
   ]
  },
  {
   "cell_type": "code",
   "execution_count": 93,
   "metadata": {},
   "outputs": [
    {
     "data": {
      "text/html": [
       "<div>\n",
       "<style scoped>\n",
       "    .dataframe tbody tr th:only-of-type {\n",
       "        vertical-align: middle;\n",
       "    }\n",
       "\n",
       "    .dataframe tbody tr th {\n",
       "        vertical-align: top;\n",
       "    }\n",
       "\n",
       "    .dataframe thead th {\n",
       "        text-align: right;\n",
       "    }\n",
       "</style>\n",
       "<table border=\"1\" class=\"dataframe\">\n",
       "  <thead>\n",
       "    <tr style=\"text-align: right;\">\n",
       "      <th></th>\n",
       "      <th>Rating</th>\n",
       "      <th>Review</th>\n",
       "    </tr>\n",
       "  </thead>\n",
       "  <tbody>\n",
       "    <tr>\n",
       "      <th>0</th>\n",
       "      <td>2</td>\n",
       "      <td>I got 'new' tires from them and within two wee...</td>\n",
       "    </tr>\n",
       "    <tr>\n",
       "      <th>1</th>\n",
       "      <td>2</td>\n",
       "      <td>Don't waste your time.  We had two different p...</td>\n",
       "    </tr>\n",
       "    <tr>\n",
       "      <th>2</th>\n",
       "      <td>2</td>\n",
       "      <td>All I can say is the worst! We were the only 2...</td>\n",
       "    </tr>\n",
       "    <tr>\n",
       "      <th>3</th>\n",
       "      <td>2</td>\n",
       "      <td>I have been to this restaurant twice and was d...</td>\n",
       "    </tr>\n",
       "    <tr>\n",
       "      <th>4</th>\n",
       "      <td>2</td>\n",
       "      <td>Food was NOT GOOD at all! My husband &amp; I ate h...</td>\n",
       "    </tr>\n",
       "    <tr>\n",
       "      <th>5</th>\n",
       "      <td>0</td>\n",
       "      <td>This is a tiny Starbucks and it locations like...</td>\n",
       "    </tr>\n",
       "    <tr>\n",
       "      <th>6</th>\n",
       "      <td>3</td>\n",
       "      <td>Typical Starbucks coffee chain. 2 things I don...</td>\n",
       "    </tr>\n",
       "  </tbody>\n",
       "</table>\n",
       "</div>"
      ],
      "text/plain": [
       "   Rating                                             Review\n",
       "0       2  I got 'new' tires from them and within two wee...\n",
       "1       2  Don't waste your time.  We had two different p...\n",
       "2       2  All I can say is the worst! We were the only 2...\n",
       "3       2  I have been to this restaurant twice and was d...\n",
       "4       2  Food was NOT GOOD at all! My husband & I ate h...\n",
       "5       0  This is a tiny Starbucks and it locations like...\n",
       "6       3  Typical Starbucks coffee chain. 2 things I don..."
      ]
     },
     "execution_count": 93,
     "metadata": {},
     "output_type": "execute_result"
    }
   ],
   "source": [
    "raw_test_data.head(7)"
   ]
  },
  {
   "cell_type": "code",
   "execution_count": 92,
   "metadata": {},
   "outputs": [
    {
     "data": {
      "text/plain": [
       "array([2, 2, 2, 2, 2, 0, 3, 4, 0, 0], dtype=int64)"
      ]
     },
     "execution_count": 92,
     "metadata": {},
     "output_type": "execute_result"
    }
   ],
   "source": [
    "test_classes[:10]"
   ]
  },
  {
   "cell_type": "code",
   "execution_count": 95,
   "metadata": {},
   "outputs": [],
   "source": [
    "raw_test_data.to_csv(\"F:\\\\Insofe\\\\Cute_DeepLearning\\\\PS2\\\\test_preds.csv\")"
   ]
  },
  {
   "cell_type": "code",
   "execution_count": null,
   "metadata": {},
   "outputs": [],
   "source": []
  }
 ],
 "metadata": {
  "anaconda-cloud": {},
  "kernelspec": {
   "display_name": "Python 3",
   "language": "python",
   "name": "python3"
  },
  "language_info": {
   "codemirror_mode": {
    "name": "ipython",
    "version": 3
   },
   "file_extension": ".py",
   "mimetype": "text/x-python",
   "name": "python",
   "nbconvert_exporter": "python",
   "pygments_lexer": "ipython3",
   "version": "3.6.4"
  }
 },
 "nbformat": 4,
 "nbformat_minor": 2
}
